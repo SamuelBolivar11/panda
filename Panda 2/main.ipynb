{
 "cells": [
  {
   "cell_type": "code",
   "execution_count": null,
   "metadata": {},
   "outputs": [],
   "source": [
    "import pandas as nd\n",
    "import numpy as np\n",
    "\n",
    "series_amnimadas = pd.Series([\"\"])\n",
    "\n",
    "series_amnimadas[4]\n",
    "\n",
    "personajes = pd.DataFrame({\n",
    "    'Nombre' : ['Luffy', 'Chopper', 'Gumball', 'Nami'],\n",
    "    'Genero' : ['M', 'M', 'M', 'F'],\n",
    "    'Escala de poder'  : [10, 5.3, 8]\n",
    "})\n",
    "\n",
    "personajes.heda(3)"
   ]
  }
 ],
 "metadata": {
  "language_info": {
   "name": "python"
  }
 },
 "nbformat": 4,
 "nbformat_minor": 2
}
